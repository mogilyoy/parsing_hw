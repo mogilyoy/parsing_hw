{
 "cells": [
  {
   "cell_type": "code",
   "execution_count": 1,
   "metadata": {},
   "outputs": [],
   "source": [
    "from bs4 import BeautifulSoup as bs\n",
    "from time import sleep\n",
    "import pandas as pd\n",
    "import requests\n",
    "import json\n",
    "import gc"
   ]
  },
  {
   "attachments": {},
   "cell_type": "markdown",
   "metadata": {},
   "source": [
    "## Вариант 1\n",
    "Необходимо собрать информацию о вакансиях на вводимую должность (используем input или через аргументы получаем должность) с сайтов HH(обязательно) и/или Superjob(по желанию). Приложение должно анализировать несколько страниц сайта (также вводим через input или аргументы). Получившийся список должен содержать в себе минимум:\n",
    "\n",
    "    - Наименование вакансии.\n",
    "    - Предлагаемую зарплату (разносим в три поля: минимальная и максимальная и валюта. цифры преобразуем к цифрам).\n",
    "    - Ссылку на саму вакансию.\n",
    "    - Сайт, откуда собрана вакансия.\n",
    "\n",
    "По желанию можно добавить ещё параметры вакансии (например, работодателя и расположение). Структура должна быть одинаковая для вакансий с обоих сайтов. Общий результат можно вывести с помощью dataFrame через pandas. Сохраните в json либо csv."
   ]
  },
  {
   "cell_type": "code",
   "execution_count": 4,
   "metadata": {},
   "outputs": [],
   "source": [
    "class HH_Parser():\n",
    "    \"\"\"Интерфейс для парсинга вакансий на сайте hh.ru в Москве\"\"\"\n",
    "    def __init__(self, headers:dict=None):\n",
    "        self.url = 'https://hh.ru/search/vacancy'\n",
    "        self.headers={'User-Agent': 'Mozilla/5.0 (X11; Ubuntu; Linux x86_64; rv:109.0) Gecko/20100101 Firefox/109.0'}\n",
    "\n",
    "\n",
    "    def get_vacancy(self, search_query:str, first_n_pages=0):\n",
    "        self.result = []\n",
    "        self.params={\n",
    "            'text': search_query,\n",
    "            'salary':'',\n",
    "            'area':1,\n",
    "            'ored_clusters':'true',\n",
    "            'enable_snippets':'true',\n",
    "            'page':0\n",
    "            }\n",
    "\n",
    "        def get_vacancies_per_one_page(self, page_number):\n",
    "            self.params['page'] = page_number\n",
    "            dom = self._get_page_dom(self.params)\n",
    "            vacancies_on_current_page = self._get_vacancies_on_current_page(dom)\n",
    "            return vacancies_on_current_page\n",
    "\n",
    "        number_of_pages = self._get_last_page_number()\n",
    "        if number_of_pages < first_n_pages:\n",
    "            print(f'Предупреждение: На странице всего {number_of_pages} страниц')\n",
    "            first_n_pages = number_of_pages\n",
    "\n",
    "        if first_n_pages == 0:\n",
    "            n_pages_to_parse = number_of_pages\n",
    "        else:\n",
    "            n_pages_to_parse = first_n_pages-1\n",
    "\n",
    "        for i in range(n_pages_to_parse+1):\n",
    "            vacancies_on_current_page = get_vacancies_per_one_page(self, i)\n",
    "            sleep(2)\n",
    "            self.result.extend(vacancies_on_current_page)\n",
    "        return self.result\n",
    "\n",
    "\n",
    "\n",
    "\n",
    "    def _get_vacancies_on_current_page(self, dom):\n",
    "        page_result = []\n",
    "        all_vacancies_info = dom.find_all('div', {'class': 'vacancy-serp-item-body__main-info'})\n",
    "\n",
    "        for vacancy_info in all_vacancies_info:\n",
    "            minimum_salary, maximum_salary, currency = None, None, None\n",
    "            try:\n",
    "                salary = vacancy_info.find_all('span', {'data-qa': 'vacancy-serp__vacancy-compensation'})[0].text\n",
    "                if salary:\n",
    "                    minimum_salary, maximum_salary, currency = self._agregate_salary(salary)\n",
    "            except:\n",
    "                pass\n",
    "            \n",
    "            vacancy_url = vacancy_info.find_all('a', {'class': 'serp-item__title'})[0]['href']\n",
    "            vacancy_title = vacancy_info.find_all('a', {'class': 'serp-item__title'})[0].text\n",
    "            vacancy_dict = {\n",
    "                'title': vacancy_title,\n",
    "                'url': vacancy_url,\n",
    "                'minimum_salary': minimum_salary,\n",
    "                'maximum_salary': maximum_salary,\n",
    "                'salary_currency': currency\n",
    "            }\n",
    "            page_result.append(vacancy_dict)\n",
    "        return page_result\n",
    "\n",
    "            \n",
    "\n",
    "\n",
    "    def _get_last_page_number(self):\n",
    "        dom = self._get_page_dom(self.params)\n",
    "        page_button_containers = dom.find_all('a', {'data-qa': 'pager-page'})\n",
    "        last_page_number = page_button_containers[-1].find_all('span')[0].text\n",
    "        last_page_number = int(last_page_number) - 1\n",
    "        return last_page_number\n",
    "\n",
    "\n",
    "    def _get_page_dom(self, params):\n",
    "        response = requests.get(self.url, headers=self.headers, params=params)\n",
    "        if response.status_code == 200:\n",
    "            dom = bs(response.text, 'html.parser')\n",
    "            return dom\n",
    "\n",
    "        else: \n",
    "            print('<self._get_page_dom> Bad response, code:', response.status_code)\n",
    "\n",
    "\n",
    "    def _agregate_salary(self, salary:str):\n",
    "        if 'руб' in salary:\n",
    "            currency = 'RUB'\n",
    "        elif 'USD' in salary:\n",
    "            currency = 'USD'\n",
    "        else:\n",
    "            currency = 'Unknown'\n",
    "\n",
    "        nums = []\n",
    "        salary_split_list = salary.split(' ')\n",
    "        for salary_item in salary_split_list:\n",
    "            if not 'от' in salary_item and not 'до' in salary_item and not 'руб' in salary_item and not 'USD' in salary_item:\n",
    "                nums.append(salary_item)\n",
    "\n",
    "        minimum_salary = 0\n",
    "        maximum_salary = 0\n",
    "\n",
    "        if len(nums)==2:\n",
    "            minimum_salary = nums[0]\n",
    "            maximum_salary = nums[1]\n",
    "\n",
    "        elif len(nums)==1 and 'от' in salary.lower():\n",
    "            minimum_salary = nums[0]\n",
    "\n",
    "        elif len(nums)==1 and 'до' in salary.lower():\n",
    "            maximum_salary = nums[0]\n",
    "\n",
    "        elif len(nums)==1:\n",
    "            minimum_salary = nums[0]\n",
    "        \n",
    "        return minimum_salary, maximum_salary, currency\n",
    "\n"
   ]
  },
  {
   "cell_type": "code",
   "execution_count": 5,
   "metadata": {},
   "outputs": [],
   "source": [
    "parser = HH_Parser()"
   ]
  },
  {
   "cell_type": "code",
   "execution_count": 6,
   "metadata": {},
   "outputs": [],
   "source": [
    "python = parser.get_vacancy('python')\n",
    "len(python), python[:3]"
   ]
  },
  {
   "cell_type": "code",
   "execution_count": 195,
   "metadata": {},
   "outputs": [],
   "source": [
    "with open('python_vacancies.json', 'w') as f:\n",
    "    json.dump(fp=f, obj=python)"
   ]
  },
  {
   "cell_type": "code",
   "execution_count": null,
   "metadata": {},
   "outputs": [],
   "source": [
    "del python\n",
    "gc.collect()"
   ]
  },
  {
   "cell_type": "code",
   "execution_count": 8,
   "metadata": {},
   "outputs": [
    {
     "data": {
      "text/plain": [
       "(60,\n",
       " [{'title': 'Data scientist',\n",
       "   'url': 'https://nizhny-tagil.hh.ru/vacancy/74376536?from=vacancy_search_list&query=data+science',\n",
       "   'minimum_salary': 0,\n",
       "   'maximum_salary': 0,\n",
       "   'salary_currency': 'RUB'},\n",
       "  {'title': 'Аналитик данных (Data Scientist) / ML-разработчик',\n",
       "   'url': 'https://nizhny-tagil.hh.ru/vacancy/77223284?from=vacancy_search_list&query=data+science',\n",
       "   'minimum_salary': None,\n",
       "   'maximum_salary': None,\n",
       "   'salary_currency': None},\n",
       "  {'title': 'Data Scientist / ML Инженер',\n",
       "   'url': 'https://nizhny-tagil.hh.ru/vacancy/76827021?from=vacancy_search_list&query=data+science',\n",
       "   'minimum_salary': None,\n",
       "   'maximum_salary': None,\n",
       "   'salary_currency': None}])"
      ]
     },
     "execution_count": 8,
     "metadata": {},
     "output_type": "execute_result"
    }
   ],
   "source": [
    "data_scientist = parser.get_vacancy('data science')\n",
    "len(data_scientist), data_scientist[:3]"
   ]
  },
  {
   "cell_type": "code",
   "execution_count": 199,
   "metadata": {},
   "outputs": [],
   "source": [
    "with open('ds_vacancies.json', 'w') as f:\n",
    "    json.dump(fp=f, obj=data_scientist)"
   ]
  },
  {
   "attachments": {},
   "cell_type": "markdown",
   "metadata": {},
   "source": [
    "### Lesson 4 homework"
   ]
  },
  {
   "attachments": {},
   "cell_type": "markdown",
   "metadata": {},
   "source": [
    "1. Развернуть у себя на компьютере/виртуальной машине/хостинге MongoDB и реализовать функцию, которая будет добавлять только новые вакансии/продукты в вашу базу.\n",
    "2. Написать функцию, которая производит поиск и выводит на экран вакансии с заработной платой больше введённой суммы (необходимо анализировать оба поля зарплаты). Для тех, кто выполнил задание с Росконтролем - напишите запрос для поиска продуктов с рейтингом не ниже введенного или качеством не ниже введенного (то есть цифра вводится одна, а запрос проверяет оба поля)."
   ]
  },
  {
   "cell_type": "code",
   "execution_count": 9,
   "metadata": {},
   "outputs": [],
   "source": [
    "from pymongo import MongoClient"
   ]
  },
  {
   "cell_type": "code",
   "execution_count": 10,
   "metadata": {},
   "outputs": [],
   "source": [
    "database = MongoClient()"
   ]
  },
  {
   "cell_type": "code",
   "execution_count": 11,
   "metadata": {},
   "outputs": [
    {
     "data": {
      "text/plain": [
       "MongoClient(host=['localhost:27017'], document_class=dict, tz_aware=False, connect=True)"
      ]
     },
     "execution_count": 11,
     "metadata": {},
     "output_type": "execute_result"
    }
   ],
   "source": [
    "database"
   ]
  },
  {
   "cell_type": "code",
   "execution_count": 12,
   "metadata": {},
   "outputs": [
    {
     "data": {
      "text/plain": [
       "['admin', 'config', 'local']"
      ]
     },
     "execution_count": 12,
     "metadata": {},
     "output_type": "execute_result"
    }
   ],
   "source": [
    "database.list_database_names()"
   ]
  },
  {
   "cell_type": "code",
   "execution_count": 14,
   "metadata": {},
   "outputs": [],
   "source": [
    "db = database.hh_db"
   ]
  },
  {
   "cell_type": "code",
   "execution_count": 23,
   "metadata": {},
   "outputs": [
    {
     "data": {
      "text/plain": [
       "<pymongo.results.InsertOneResult at 0x7f4d3bf7fe80>"
      ]
     },
     "execution_count": 23,
     "metadata": {},
     "output_type": "execute_result"
    }
   ],
   "source": [
    "db.ds_vacancies.insert_one(data_scientist[0])"
   ]
  },
  {
   "cell_type": "code",
   "execution_count": 24,
   "metadata": {},
   "outputs": [
    {
     "name": "stdout",
     "output_type": "stream",
     "text": [
      "{'_id': ObjectId('63fa498a96f623e4c9da9b10'), 'title': 'Data scientist', 'url': 'https://nizhny-tagil.hh.ru/vacancy/74376536?from=vacancy_search_list&query=data+science', 'minimum_salary': 0, 'maximum_salary': 0, 'salary_currency': 'RUB'}\n"
     ]
    }
   ],
   "source": [
    "for  i in db.ds_vacancies.find():\n",
    "    print(i)"
   ]
  },
  {
   "cell_type": "code",
   "execution_count": 25,
   "metadata": {},
   "outputs": [
    {
     "data": {
      "text/plain": [
       "<pymongo.results.DeleteResult at 0x7f4d3bf7fbb0>"
      ]
     },
     "execution_count": 25,
     "metadata": {},
     "output_type": "execute_result"
    }
   ],
   "source": [
    "db.ds_vacancies.delete_many({})"
   ]
  },
  {
   "cell_type": "code",
   "execution_count": 26,
   "metadata": {},
   "outputs": [
    {
     "data": {
      "text/plain": [
       "<pymongo.cursor.Cursor at 0x7f4d3bf5e0b0>"
      ]
     },
     "execution_count": 26,
     "metadata": {},
     "output_type": "execute_result"
    }
   ],
   "source": [
    "for vacancy in data_scientist:\n",
    "    db.ds_vacancies.insert_one(vacancy)\n"
   ]
  },
  {
   "cell_type": "code",
   "execution_count": 27,
   "metadata": {},
   "outputs": [
    {
     "name": "stdout",
     "output_type": "stream",
     "text": [
      "{'_id': ObjectId('63fa498a96f623e4c9da9b10'), 'title': 'Data scientist', 'url': 'https://nizhny-tagil.hh.ru/vacancy/74376536?from=vacancy_search_list&query=data+science', 'minimum_salary': 0, 'maximum_salary': 0, 'salary_currency': 'RUB'}\n",
      "{'_id': ObjectId('63fa4a4a96f623e4c9da9b11'), 'title': 'Аналитик данных (Data Scientist) / ML-разработчик', 'url': 'https://nizhny-tagil.hh.ru/vacancy/77223284?from=vacancy_search_list&query=data+science', 'minimum_salary': None, 'maximum_salary': None, 'salary_currency': None}\n",
      "{'_id': ObjectId('63fa4a4a96f623e4c9da9b12'), 'title': 'Data Scientist / ML Инженер', 'url': 'https://nizhny-tagil.hh.ru/vacancy/76827021?from=vacancy_search_list&query=data+science', 'minimum_salary': None, 'maximum_salary': None, 'salary_currency': None}\n"
     ]
    }
   ],
   "source": [
    "a = db.ds_vacancies.find()\n",
    "for i in range(3):\n",
    "    print(a.next())"
   ]
  },
  {
   "cell_type": "code",
   "execution_count": 28,
   "metadata": {},
   "outputs": [
    {
     "data": {
      "text/plain": [
       "dict"
      ]
     },
     "execution_count": 28,
     "metadata": {},
     "output_type": "execute_result"
    }
   ],
   "source": [
    "type(a.next())"
   ]
  },
  {
   "cell_type": "code",
   "execution_count": 49,
   "metadata": {},
   "outputs": [],
   "source": [
    "def renew_data_science_vacancies():\n",
    "    # getting the new data\n",
    "    parser = HH_Parser()\n",
    "    vacancies = parser.get_vacancy('data science', first_n_pages=3)\n",
    "    print(len(vacancies))\n",
    "    counter = 0\n",
    "    deleted = 0\n",
    "\n",
    "    # clearing the db from unactive vacancies\n",
    "    for db_vacancy in db.ds_vacancies.find():\n",
    "        is_the_vacancy_in_database = False\n",
    "        for vacancy in vacancies:\n",
    "            if db_vacancy['url'] == vacancy['url']:\n",
    "                is_the_vacancy_in_database_active = True\n",
    "        if not is_the_vacancy_in_database_active:\n",
    "            db.ds_vacancies.delete_one({'_id': db_vacancy['_id']})\n",
    "            deleted += 1\n",
    "\n",
    "    # adding the new vacancies to the database\n",
    "    for vacancy in vacancies:\n",
    "        is_the_vacancy_in_database = False\n",
    "        for db_vacancy in db.ds_vacancies.find():\n",
    "            if db_vacancy['url'] == vacancy['url']:\n",
    "                is_the_vacancy_in_database = True\n",
    "        if not is_the_vacancy_in_database:\n",
    "            db.ds_vacancies.insert_one(vacancy)\n",
    "            counter += 1\n",
    "    print(f'Готово, добавлено {counter} вакансий' if counter != 0 else 'Ни одной вакансии не добавлено')\n",
    "    print(f'Готово, удалено {deleted} вакансий' if deleted != 0 else 'Ни одной вакансии не удалено')\n",
    "\n",
    "\n",
    "        "
   ]
  },
  {
   "cell_type": "code",
   "execution_count": 52,
   "metadata": {},
   "outputs": [
    {
     "data": {
      "text/plain": [
       "<pymongo.results.DeleteResult at 0x7f4d392b6770>"
      ]
     },
     "execution_count": 52,
     "metadata": {},
     "output_type": "execute_result"
    }
   ],
   "source": [
    "db.ds_vacancies.delete_many({})"
   ]
  },
  {
   "cell_type": "code",
   "execution_count": 53,
   "metadata": {},
   "outputs": [
    {
     "name": "stdout",
     "output_type": "stream",
     "text": [
      "60\n",
      "Готово, добавлено 60 вакансий\n",
      "Ни одной вакансии не удалено\n"
     ]
    }
   ],
   "source": [
    "renew_data_science_vacancies()"
   ]
  },
  {
   "cell_type": "code",
   "execution_count": null,
   "metadata": {},
   "outputs": [],
   "source": []
  }
 ],
 "metadata": {
  "kernelspec": {
   "display_name": "Python 3",
   "language": "python",
   "name": "python3"
  },
  "language_info": {
   "codemirror_mode": {
    "name": "ipython",
    "version": 3
   },
   "file_extension": ".py",
   "mimetype": "text/x-python",
   "name": "python",
   "nbconvert_exporter": "python",
   "pygments_lexer": "ipython3",
   "version": "3.10.6"
  },
  "orig_nbformat": 4,
  "vscode": {
   "interpreter": {
    "hash": "916dbcbb3f70747c44a77c7bcd40155683ae19c65e1c03b4aa3499c5328201f1"
   }
  }
 },
 "nbformat": 4,
 "nbformat_minor": 2
}
